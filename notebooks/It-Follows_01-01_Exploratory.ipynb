{
 "cells": [
  {
   "cell_type": "markdown",
   "metadata": {},
   "source": [
    "# `It-Follows`\n",
    "## Followup Observations of exoplanets (and beyond)\n",
    "### 1. Exploratory analysis of the ExoFOP metadata\n",
    "\n",
    "Michael Gully-Santiago  \n",
    "Wednesday, July 5, 2017  "
   ]
  },
  {
   "cell_type": "markdown",
   "metadata": {},
   "source": [
    "In this exploratory notebook, we will simply fetch metadata from the ExoFOP, read it in, and see what we find out."
   ]
  },
  {
   "cell_type": "code",
   "execution_count": 1,
   "metadata": {
    "collapsed": true
   },
   "outputs": [],
   "source": [
    "import pandas as pd\n",
    "import seaborn as sns\n",
    "import matplotlib.pyplot as plt"
   ]
  },
  {
   "cell_type": "code",
   "execution_count": 2,
   "metadata": {
    "collapsed": true
   },
   "outputs": [],
   "source": [
    "%matplotlib inline\n",
    "%config InlineBackend.figure_format = 'retina'"
   ]
  },
  {
   "cell_type": "markdown",
   "metadata": {},
   "source": [
    "You can download a CSV of all the K2 ExoFOP metadata here:  \n",
    "https://exofop.ipac.caltech.edu/k2/targets.php?sort=target&ipp1=1000&page1=1&camp=All\n",
    "\n",
    "Navigate to:  \n",
    "> `Download as:` Text **CSV**   \n",
    "\n",
    "Select the CSV link.  You will automatically download a file, which you can save to the `data/` directory in this repo to replicate the work here."
   ]
  },
  {
   "cell_type": "code",
   "execution_count": 3,
   "metadata": {},
   "outputs": [
    {
     "name": "stdout",
     "output_type": "stream",
     "text": [
      "exofop_spectroscopy.csv exofop_targets.csv\r\n"
     ]
    }
   ],
   "source": [
    "! ls ../data/"
   ]
  },
  {
   "cell_type": "code",
   "execution_count": 4,
   "metadata": {},
   "outputs": [
    {
     "name": "stdout",
     "output_type": "stream",
     "text": [
      "\\\\ K2 Targets\r\n",
      "\\\\ EPIC ID = K2 Ecliptic Plane Input Catalog ID\r\n",
      "\\\\ RA, Dec = Coordinates (J2000)\r\n",
      "\\\\ Mag_Kep = Kepler magnitude\r\n",
      "\\\\ Mag_Ks = Ks magnitude\r\n",
      "\\\\ Num_plan = Number of confirmed planets\r\n",
      "\\\\ Poss_pc = Possible planetary candidate\r\n",
      "\\\\ Num_spec = Number of spectroscopy observations\r\n",
      "\\\\ Num_img = Number of imaging observations\r\n",
      "\\\\ Last Mod = Last modified date\r\n",
      "\r\n",
      "EPIC ID,RA,Dec,Mag_Kep,Mag_Ks,Num_plan,Poss_pc,Num_spec,Num_img,Last Mod\r\n",
      "60017809,23:29:33.14,-03:46:07.83,,,0,,0,0,2017-04-10 14:18:33\r\n",
      "60017810,00:04:37.82,03:33:01.19,,,0,,0,0,2017-04-10 14:18:33\r\n",
      "60017812,00:16:41.03,-00:09:25.09,,,0,,0,0,2017-04-10 14:18:33\r\n"
     ]
    }
   ],
   "source": [
    "! head -n 15 ../data/exofop_targets.csv"
   ]
  },
  {
   "cell_type": "code",
   "execution_count": 5,
   "metadata": {},
   "outputs": [],
   "source": [
    "efop_all = pd.read_csv('../data/exofop_targets.csv', true_values='Y', false_values='N', dtype={'Poss_pc':bool},\n",
    "                       comment='\\\\', parse_dates=['Last Mod'])"
   ]
  },
  {
   "cell_type": "code",
   "execution_count": 6,
   "metadata": {
    "scrolled": true
   },
   "outputs": [
    {
     "data": {
      "text/html": [
       "<div>\n",
       "<style>\n",
       "    .dataframe thead tr:only-child th {\n",
       "        text-align: right;\n",
       "    }\n",
       "\n",
       "    .dataframe thead th {\n",
       "        text-align: left;\n",
       "    }\n",
       "\n",
       "    .dataframe tbody tr th {\n",
       "        vertical-align: top;\n",
       "    }\n",
       "</style>\n",
       "<table border=\"1\" class=\"dataframe\">\n",
       "  <thead>\n",
       "    <tr style=\"text-align: right;\">\n",
       "      <th></th>\n",
       "      <th>EPIC ID</th>\n",
       "      <th>RA</th>\n",
       "      <th>Dec</th>\n",
       "      <th>Mag_Kep</th>\n",
       "      <th>Mag_Ks</th>\n",
       "      <th>Num_plan</th>\n",
       "      <th>Poss_pc</th>\n",
       "      <th>Num_spec</th>\n",
       "      <th>Num_img</th>\n",
       "      <th>Last Mod</th>\n",
       "    </tr>\n",
       "  </thead>\n",
       "  <tbody>\n",
       "    <tr>\n",
       "      <th>0</th>\n",
       "      <td>60017809</td>\n",
       "      <td>23:29:33.14</td>\n",
       "      <td>-03:46:07.83</td>\n",
       "      <td>NaN</td>\n",
       "      <td>NaN</td>\n",
       "      <td>0</td>\n",
       "      <td>NaN</td>\n",
       "      <td>0</td>\n",
       "      <td>0</td>\n",
       "      <td>2017-04-10 14:18:33</td>\n",
       "    </tr>\n",
       "    <tr>\n",
       "      <th>1</th>\n",
       "      <td>60017810</td>\n",
       "      <td>00:04:37.82</td>\n",
       "      <td>03:33:01.19</td>\n",
       "      <td>NaN</td>\n",
       "      <td>NaN</td>\n",
       "      <td>0</td>\n",
       "      <td>NaN</td>\n",
       "      <td>0</td>\n",
       "      <td>0</td>\n",
       "      <td>2017-04-10 14:18:33</td>\n",
       "    </tr>\n",
       "    <tr>\n",
       "      <th>2</th>\n",
       "      <td>60017812</td>\n",
       "      <td>00:16:41.03</td>\n",
       "      <td>-00:09:25.09</td>\n",
       "      <td>NaN</td>\n",
       "      <td>NaN</td>\n",
       "      <td>0</td>\n",
       "      <td>NaN</td>\n",
       "      <td>0</td>\n",
       "      <td>0</td>\n",
       "      <td>2017-04-10 14:18:33</td>\n",
       "    </tr>\n",
       "    <tr>\n",
       "      <th>3</th>\n",
       "      <td>60017815</td>\n",
       "      <td>23:42:06.91</td>\n",
       "      <td>-03:05:58.56</td>\n",
       "      <td>NaN</td>\n",
       "      <td>NaN</td>\n",
       "      <td>0</td>\n",
       "      <td>NaN</td>\n",
       "      <td>0</td>\n",
       "      <td>0</td>\n",
       "      <td>2017-04-10 14:18:33</td>\n",
       "    </tr>\n",
       "    <tr>\n",
       "      <th>4</th>\n",
       "      <td>60017818</td>\n",
       "      <td>23:31:01.62</td>\n",
       "      <td>-04:06:19.39</td>\n",
       "      <td>NaN</td>\n",
       "      <td>NaN</td>\n",
       "      <td>0</td>\n",
       "      <td>NaN</td>\n",
       "      <td>0</td>\n",
       "      <td>0</td>\n",
       "      <td>2017-04-10 14:18:33</td>\n",
       "    </tr>\n",
       "  </tbody>\n",
       "</table>\n",
       "</div>"
      ],
      "text/plain": [
       "    EPIC ID           RA           Dec  Mag_Kep  Mag_Ks  Num_plan Poss_pc  \\\n",
       "0  60017809  23:29:33.14  -03:46:07.83      NaN     NaN         0     NaN   \n",
       "1  60017810  00:04:37.82   03:33:01.19      NaN     NaN         0     NaN   \n",
       "2  60017812  00:16:41.03  -00:09:25.09      NaN     NaN         0     NaN   \n",
       "3  60017815  23:42:06.91  -03:05:58.56      NaN     NaN         0     NaN   \n",
       "4  60017818  23:31:01.62  -04:06:19.39      NaN     NaN         0     NaN   \n",
       "\n",
       "   Num_spec  Num_img            Last Mod  \n",
       "0         0        0 2017-04-10 14:18:33  \n",
       "1         0        0 2017-04-10 14:18:33  \n",
       "2         0        0 2017-04-10 14:18:33  \n",
       "3         0        0 2017-04-10 14:18:33  \n",
       "4         0        0 2017-04-10 14:18:33  "
      ]
     },
     "execution_count": 6,
     "metadata": {},
     "output_type": "execute_result"
    }
   ],
   "source": [
    "efop_all.head()"
   ]
  },
  {
   "cell_type": "markdown",
   "metadata": {},
   "source": [
    "From the [ExoFOP Help Page](https://exofop.ipac.caltech.edu/k2/help.php):\n",
    "> Description of column headers:  \n",
    "- EPIC ID: Identification number from the Ecliptic Plane Input Catalog (EPIC).  \n",
    "- RA: Right Ascension\n",
    "- Dec: Declination\n",
    "- Kep mag: Kepler magnitude in EPIC.  \n",
    "- Ks mag: 2MASS K_short magnitude.  \n",
    "- Num Confirmed Planets: number of confirmed planets (if any).  \n",
    "- Possible PC? Indicates if a target has a possible planetary candidate (PC)  \n",
    "- Number of spectroscopy observations\n",
    "- Number of imaging observations \n",
    "- Last Modified: date of last modification of any parameters or observing notes of the target along with user name.  "
   ]
  },
  {
   "cell_type": "code",
   "execution_count": 7,
   "metadata": {},
   "outputs": [
    {
     "data": {
      "text/plain": [
       "(287309, 10)"
      ]
     },
     "execution_count": 7,
     "metadata": {},
     "output_type": "execute_result"
    }
   ],
   "source": [
    "efop_all.shape"
   ]
  },
  {
   "cell_type": "markdown",
   "metadata": {},
   "source": [
    "There are 287,309 targets and 10 columns."
   ]
  },
  {
   "cell_type": "code",
   "execution_count": 8,
   "metadata": {},
   "outputs": [
    {
     "data": {
      "text/plain": [
       "EPIC ID     287309\n",
       "RA          287309\n",
       "Dec         287309\n",
       "Mag_Kep     285647\n",
       "Mag_Ks      270120\n",
       "Num_plan    287309\n",
       "Poss_pc        393\n",
       "Num_spec    287309\n",
       "Num_img     287309\n",
       "Last Mod    287309\n",
       "dtype: int64"
      ]
     },
     "execution_count": 8,
     "metadata": {},
     "output_type": "execute_result"
    }
   ],
   "source": [
    "efop_all.count()"
   ]
  },
  {
   "cell_type": "markdown",
   "metadata": {},
   "source": [
    "What is the typical number of spectroscopic/imaging observations?"
   ]
  },
  {
   "cell_type": "code",
   "execution_count": 9,
   "metadata": {},
   "outputs": [
    {
     "data": {
      "text/plain": [
       "min     0.0\n",
       "max    25.0\n",
       "Name: Num_spec, dtype: float64"
      ]
     },
     "execution_count": 9,
     "metadata": {},
     "output_type": "execute_result"
    }
   ],
   "source": [
    "efop_all.Num_spec.describe()[['min', 'max']]"
   ]
  },
  {
   "cell_type": "code",
   "execution_count": 10,
   "metadata": {},
   "outputs": [
    {
     "data": {
      "image/png": "[encoded data removed]",
      "text/plain": [
       "<matplotlib.figure.Figure at 0x11ca57198>"
      ]
     },
     "metadata": {
      "image/png": {
       "height": 262,
       "width": 372
      }
     },
     "output_type": "display_data"
    }
   ],
   "source": [
    "sns.distplot(efop_all.Num_spec, kde=False)\n",
    "plt.yscale('log')"
   ]
  },
  {
   "cell_type": "markdown",
   "metadata": {},
   "source": [
    "The vast majority of EPIC targets have no spectroscopic observations available on ExoFOP."
   ]
  },
  {
   "cell_type": "code",
   "execution_count": 11,
   "metadata": {},
   "outputs": [
    {
     "data": {
      "text/plain": [
       "(451, 108, 706)"
      ]
     },
     "execution_count": 11,
     "metadata": {},
     "output_type": "execute_result"
    }
   ],
   "source": [
    "(efop_all.Num_spec > 0).sum(), (efop_all.Num_spec > 1).sum(), efop_all.Num_spec.sum()"
   ]
  },
  {
   "cell_type": "markdown",
   "metadata": {},
   "source": [
    "Only 451 targets have spectra, with 108 possessing multi-epoch spectra.  A total of 706 spectroscopic observations are available for K2 ExoFOP, which is identical to the number on the homepage accessed on 5 July, 2017."
   ]
  },
  {
   "cell_type": "markdown",
   "metadata": {},
   "source": [
    "## Spectroscopy"
   ]
  },
  {
   "cell_type": "markdown",
   "metadata": {},
   "source": [
    "We can examine the metadata on the spectroscopic observations by navigating to the [Spectroscopy Portal](https://exofop.ipac.caltech.edu/k2/view_spect.php?sort=id&ipp1=500&page1=1)"
   ]
  },
  {
   "cell_type": "code",
   "execution_count": 12,
   "metadata": {},
   "outputs": [
    {
     "name": "stdout",
     "output_type": "stream",
     "text": [
      "exofop_spectroscopy.csv exofop_targets.csv\r\n"
     ]
    }
   ],
   "source": [
    "! ls ../data/"
   ]
  },
  {
   "cell_type": "code",
   "execution_count": 13,
   "metadata": {},
   "outputs": [
    {
     "name": "stdout",
     "output_type": "stream",
     "text": [
      "Unique ID,EPIC ID,Telescope,Instrument,Spectral resolution,Wavelength coverage,SNR/resolution,SNR wavelength,Flux calib,Wave calib,RV type,Obs date,User,Notes\r\n",
      "614,201091593,Tillinghast,TRES,44000,3850 to 9096 Angstroms,15.0,5110 Angstroms,No,Yes,Abs,2016-12-2611:44:33.79,bieryla,\r\n",
      "670,201110617,Tillinghast,TRES,44000,3850 to 9096 Angstroms,22.6,5110 Angstroms,No,Yes,Abs,2017-01-1813:00:50.40,bieryla,\r\n"
     ]
    }
   ],
   "source": [
    "! head -n 3 ../data/exofop_spectroscopy.csv"
   ]
  },
  {
   "cell_type": "code",
   "execution_count": 14,
   "metadata": {},
   "outputs": [],
   "source": [
    "efop_spec = pd.read_csv('../data/exofop_spectroscopy.csv', false_values='No', true_values='Yes',\n",
    "                        parse_dates=['Obs date'])"
   ]
  },
  {
   "cell_type": "code",
   "execution_count": 15,
   "metadata": {},
   "outputs": [
    {
     "data": {
      "text/html": [
       "<div>\n",
       "<style>\n",
       "    .dataframe thead tr:only-child th {\n",
       "        text-align: right;\n",
       "    }\n",
       "\n",
       "    .dataframe thead th {\n",
       "        text-align: left;\n",
       "    }\n",
       "\n",
       "    .dataframe tbody tr th {\n",
       "        vertical-align: top;\n",
       "    }\n",
       "</style>\n",
       "<table border=\"1\" class=\"dataframe\">\n",
       "  <thead>\n",
       "    <tr style=\"text-align: right;\">\n",
       "      <th></th>\n",
       "      <th>Unique ID</th>\n",
       "      <th>EPIC ID</th>\n",
       "      <th>Telescope</th>\n",
       "      <th>Instrument</th>\n",
       "      <th>Spectral resolution</th>\n",
       "      <th>Wavelength coverage</th>\n",
       "      <th>SNR/resolution</th>\n",
       "      <th>SNR wavelength</th>\n",
       "      <th>Flux calib</th>\n",
       "      <th>Wave calib</th>\n",
       "      <th>RV type</th>\n",
       "      <th>Obs date</th>\n",
       "      <th>User</th>\n",
       "      <th>Notes</th>\n",
       "    </tr>\n",
       "  </thead>\n",
       "  <tbody>\n",
       "    <tr>\n",
       "      <th>0</th>\n",
       "      <td>614</td>\n",
       "      <td>201091593</td>\n",
       "      <td>Tillinghast</td>\n",
       "      <td>TRES</td>\n",
       "      <td>44000</td>\n",
       "      <td>3850 to 9096 Angstroms</td>\n",
       "      <td>15.0</td>\n",
       "      <td>5110 Angstroms</td>\n",
       "      <td>No</td>\n",
       "      <td>Yes</td>\n",
       "      <td>Abs</td>\n",
       "      <td>2016-12-2611:44:33.79</td>\n",
       "      <td>bieryla</td>\n",
       "      <td>NaN</td>\n",
       "    </tr>\n",
       "    <tr>\n",
       "      <th>1</th>\n",
       "      <td>670</td>\n",
       "      <td>201110617</td>\n",
       "      <td>Tillinghast</td>\n",
       "      <td>TRES</td>\n",
       "      <td>44000</td>\n",
       "      <td>3850 to 9096 Angstroms</td>\n",
       "      <td>22.6</td>\n",
       "      <td>5110 Angstroms</td>\n",
       "      <td>No</td>\n",
       "      <td>Yes</td>\n",
       "      <td>Abs</td>\n",
       "      <td>2017-01-1813:00:50.40</td>\n",
       "      <td>bieryla</td>\n",
       "      <td>NaN</td>\n",
       "    </tr>\n",
       "    <tr>\n",
       "      <th>2</th>\n",
       "      <td>680</td>\n",
       "      <td>201110617</td>\n",
       "      <td>Tillinghast</td>\n",
       "      <td>TRES</td>\n",
       "      <td>44000</td>\n",
       "      <td>3850 to 9096 Angstroms</td>\n",
       "      <td>26.0</td>\n",
       "      <td>5110 Angstroms</td>\n",
       "      <td>No</td>\n",
       "      <td>Yes</td>\n",
       "      <td>Abs</td>\n",
       "      <td>2017-02-0110:36:10.65</td>\n",
       "      <td>bieryla</td>\n",
       "      <td>NaN</td>\n",
       "    </tr>\n",
       "    <tr>\n",
       "      <th>3</th>\n",
       "      <td>615</td>\n",
       "      <td>201111557</td>\n",
       "      <td>Tillinghast</td>\n",
       "      <td>TRES</td>\n",
       "      <td>44000</td>\n",
       "      <td>3850 to 9096 Angstroms</td>\n",
       "      <td>24.1</td>\n",
       "      <td>5110 Angstroms</td>\n",
       "      <td>No</td>\n",
       "      <td>Yes</td>\n",
       "      <td>Abs</td>\n",
       "      <td>2016-12-2612:01:15.16</td>\n",
       "      <td>bieryla</td>\n",
       "      <td>NaN</td>\n",
       "    </tr>\n",
       "    <tr>\n",
       "      <th>4</th>\n",
       "      <td>616</td>\n",
       "      <td>201127519</td>\n",
       "      <td>Tillinghast</td>\n",
       "      <td>TRES</td>\n",
       "      <td>44000</td>\n",
       "      <td>3850 to 9096 Angstroms</td>\n",
       "      <td>18.4</td>\n",
       "      <td>5110 Angstroms</td>\n",
       "      <td>No</td>\n",
       "      <td>Yes</td>\n",
       "      <td>Abs</td>\n",
       "      <td>2016-12-2612:17:12.48</td>\n",
       "      <td>bieryla</td>\n",
       "      <td>NaN</td>\n",
       "    </tr>\n",
       "  </tbody>\n",
       "</table>\n",
       "</div>"
      ],
      "text/plain": [
       "   Unique ID    EPIC ID    Telescope Instrument  Spectral resolution  \\\n",
       "0        614  201091593  Tillinghast       TRES                44000   \n",
       "1        670  201110617  Tillinghast       TRES                44000   \n",
       "2        680  201110617  Tillinghast       TRES                44000   \n",
       "3        615  201111557  Tillinghast       TRES                44000   \n",
       "4        616  201127519  Tillinghast       TRES                44000   \n",
       "\n",
       "      Wavelength coverage  SNR/resolution  SNR wavelength Flux calib  \\\n",
       "0  3850 to 9096 Angstroms            15.0  5110 Angstroms         No   \n",
       "1  3850 to 9096 Angstroms            22.6  5110 Angstroms         No   \n",
       "2  3850 to 9096 Angstroms            26.0  5110 Angstroms         No   \n",
       "3  3850 to 9096 Angstroms            24.1  5110 Angstroms         No   \n",
       "4  3850 to 9096 Angstroms            18.4  5110 Angstroms         No   \n",
       "\n",
       "  Wave calib RV type               Obs date     User  Notes  \n",
       "0        Yes     Abs  2016-12-2611:44:33.79  bieryla    NaN  \n",
       "1        Yes     Abs  2017-01-1813:00:50.40  bieryla    NaN  \n",
       "2        Yes     Abs  2017-02-0110:36:10.65  bieryla    NaN  \n",
       "3        Yes     Abs  2016-12-2612:01:15.16  bieryla    NaN  \n",
       "4        Yes     Abs  2016-12-2612:17:12.48  bieryla    NaN  "
      ]
     },
     "execution_count": 15,
     "metadata": {},
     "output_type": "execute_result"
    }
   ],
   "source": [
    "efop_spec.head()"
   ]
  },
  {
   "cell_type": "markdown",
   "metadata": {},
   "source": [
    "Some boiler plate columns are the same for all instruments, and are therefore not very informative."
   ]
  },
  {
   "cell_type": "code",
   "execution_count": 16,
   "metadata": {},
   "outputs": [
    {
     "name": "stdout",
     "output_type": "stream",
     "text": [
      "SNR wavelength......   ['5110 Angstroms' nan]\n",
      "Flux calib..........   ['No' nan]\n",
      "Wave calib..........   ['Yes' nan]\n",
      "RV type.............   ['Abs' nan]\n",
      "Notes...............   [ nan]\n"
     ]
    }
   ],
   "source": [
    "boiler_plate = ('SNR wavelength', 'Flux calib', 'Wave calib', 'RV type', 'Notes')\n",
    "for key in boiler_plate:\n",
    "    print(\"{:.<20}  \".format(key), efop_spec[key].unique())"
   ]
  },
  {
   "cell_type": "code",
   "execution_count": 17,
   "metadata": {},
   "outputs": [
    {
     "data": {
      "text/plain": [
       "(array(['Tillinghast', 'IRTF', 'NTT', 'Hale', 'Keck II'], dtype=object),\n",
       " array(['TRES', 'SpeX', 'SOFI', 'TripleSpec', 'ESI'], dtype=object),\n",
       " array([44000,  2000,  1000,  2600,  4000]))"
      ]
     },
     "execution_count": 17,
     "metadata": {},
     "output_type": "execute_result"
    }
   ],
   "source": [
    "efop_spec.Telescope.unique(), efop_spec.Instrument.unique(), efop_spec['Spectral resolution'].unique()"
   ]
  },
  {
   "cell_type": "code",
   "execution_count": 18,
   "metadata": {},
   "outputs": [
    {
     "data": {
      "text/plain": [
       "Instrument\n",
       "ESI             1\n",
       "SOFI           15\n",
       "SpeX          121\n",
       "TRES          530\n",
       "TripleSpec     39\n",
       "Name: Unique ID, dtype: int64"
      ]
     },
     "execution_count": 18,
     "metadata": {},
     "output_type": "execute_result"
    }
   ],
   "source": [
    "efop_spec.groupby('Instrument').count()['Unique ID']"
   ]
  },
  {
   "cell_type": "markdown",
   "metadata": {},
   "source": [
    "There are 5 unique telescopes and 5 unique instruments populated in the K2 ExoFOP.  Who is uploading this data?"
   ]
  },
  {
   "cell_type": "code",
   "execution_count": 19,
   "metadata": {},
   "outputs": [
    {
     "data": {
      "text/plain": [
       "User\n",
       "bieryla      530\n",
       "dressing     160\n",
       "martinez      15\n",
       "schlecker      1\n",
       "Name: Unique ID, dtype: int64"
      ]
     },
     "execution_count": 19,
     "metadata": {},
     "output_type": "execute_result"
    }
   ],
   "source": [
    "efop_spec.groupby('User').count()['Unique ID']"
   ]
  },
  {
   "cell_type": "markdown",
   "metadata": {},
   "source": [
    "Only 4 people have uploaded spectroscopy to the K2 ExoFOP."
   ]
  },
  {
   "cell_type": "code",
   "execution_count": 23,
   "metadata": {},
   "outputs": [],
   "source": [
    "vec = efop_spec['SNR/resolution']"
   ]
  },
  {
   "cell_type": "code",
   "execution_count": 24,
   "metadata": {},
   "outputs": [
    {
     "data": {
      "image/png": "[encoded data removed]",
      "text/plain": [
       "<matplotlib.figure.Figure at 0x117460c18>"
      ]
     },
     "metadata": {
      "image/png": {
       "height": 262,
       "width": 375
      }
     },
     "output_type": "display_data"
    }
   ],
   "source": [
    "sns.distplot(vec[vec.notnull()]);"
   ]
  },
  {
   "cell_type": "markdown",
   "metadata": {},
   "source": [
    "I assume this label refers to SNR per resolution element (e.g., not \"per pixel\").  "
   ]
  },
  {
   "cell_type": "markdown",
   "metadata": {},
   "source": [
    "## The end for now!"
   ]
  }
 ],
 "metadata": {
  "kernelspec": {
   "display_name": "Python 3",
   "language": "python",
   "name": "python3"
  },
  "language_info": {
   "codemirror_mode": {
    "name": "ipython",
    "version": 3
   },
   "file_extension": ".py",
   "mimetype": "text/x-python",
   "name": "python",
   "nbconvert_exporter": "python",
   "pygments_lexer": "ipython3",
   "version": "3.6.1"
  }
 },
 "nbformat": 4,
 "nbformat_minor": 2
}
